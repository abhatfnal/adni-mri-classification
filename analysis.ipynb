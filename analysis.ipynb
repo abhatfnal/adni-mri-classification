{
 "cells": [
  {
   "cell_type": "code",
   "execution_count": 1,
   "id": "6517d178",
   "metadata": {},
   "outputs": [],
   "source": [
    "import torch\n",
    "import matplotlib.pyplot as plt\n",
    "\n",
    "from omegaconf import OmegaConf\n",
    "from data.datasets import ADNIDataset\n",
    "\n",
    "from torch.utils.data import DataLoader"
   ]
  },
  {
   "cell_type": "markdown",
   "id": "c963b612",
   "metadata": {},
   "source": [
    "#### Load experiment"
   ]
  },
  {
   "cell_type": "code",
   "execution_count": 8,
   "id": "7b0ec68a",
   "metadata": {},
   "outputs": [],
   "source": [
    "# Experiment folder\n",
    "exp_dir = './experiments/mynet_20250811_205600'"
   ]
  },
  {
   "cell_type": "code",
   "execution_count": 9,
   "id": "66d798f2",
   "metadata": {},
   "outputs": [],
   "source": [
    "# Load config\n",
    "cfg = OmegaConf.load(exp_dir + '/config.yaml')"
   ]
  },
  {
   "cell_type": "code",
   "execution_count": 10,
   "id": "8253cfbf",
   "metadata": {},
   "outputs": [],
   "source": [
    "# Load test dataset\n",
    "test_dataset = ADNIDataset(cfg.data.test_csv)"
   ]
  },
  {
   "cell_type": "code",
   "execution_count": 11,
   "id": "cd8c8efd",
   "metadata": {},
   "outputs": [],
   "source": [
    "# Load model\n",
    "model = torch.load(exp_dir + '/fold_1/best_model.pth', map_location=torch.device('cpu'), weights_only=False)"
   ]
  },
  {
   "cell_type": "markdown",
   "id": "a1cd21c7",
   "metadata": {},
   "source": [
    "#### Register hooks to store layer activations"
   ]
  },
  {
   "cell_type": "code",
   "execution_count": 12,
   "id": "5ccd575f",
   "metadata": {},
   "outputs": [],
   "source": [
    "# 1. Dictionary to store activations\n",
    "activations = {}\n",
    "\n",
    "# 2. Hook function\n",
    "def get_activation(name):\n",
    "    def hook(model, input, output):\n",
    "        activations[name] = output.detach().cpu()\n",
    "    return hook\n",
    "\n",
    "# 3. Register hooks to all layers\n",
    "for name, layer in model.named_modules():\n",
    "    # Only register to layers with parameters (skip containers like nn.Sequential)\n",
    "    if len(list(layer.children())) == 0:\n",
    "        layer.register_forward_hook(get_activation(name))"
   ]
  },
  {
   "cell_type": "markdown",
   "id": "bee57336",
   "metadata": {},
   "source": [
    "#### View activations"
   ]
  },
  {
   "cell_type": "code",
   "execution_count": 13,
   "id": "1a7b864b",
   "metadata": {},
   "outputs": [],
   "source": [
    "sample_index = 0\n",
    "img,lbl = test_dataset[sample_index]"
   ]
  },
  {
   "cell_type": "code",
   "execution_count": 14,
   "id": "6a71eabb",
   "metadata": {},
   "outputs": [],
   "source": [
    "loader = DataLoader(test_dataset,10)\n",
    "\n",
    "batches = []\n",
    "for imgs,lbls in loader:\n",
    "    batches.append(imgs)\n",
    "    \n",
    "model.eval()\n",
    "out = model(batches[0])\n"
   ]
  },
  {
   "cell_type": "code",
   "execution_count": 15,
   "id": "feef3b2e",
   "metadata": {},
   "outputs": [
    {
     "name": "stdout",
     "output_type": "stream",
     "text": [
      "MyNet(\n",
      "  (conv1): Conv3d(1, 16, kernel_size=(3, 3, 3), stride=(1, 1, 1), padding=(1, 1, 1), bias=False)\n",
      "  (mbn1): MaskedBatchNorm3d()\n",
      "  (pool1): MaxPool3d(kernel_size=2, stride=2, padding=0, dilation=1, ceil_mode=False)\n",
      "  (resblock): ResidualBlock3D(\n",
      "    (conv1): Conv3d(16, 32, kernel_size=(3, 3, 3), stride=(1, 1, 1), padding=(1, 1, 1), bias=False)\n",
      "    (mbn1): MaskedBatchNorm3d()\n",
      "    (conv2): Conv3d(32, 32, kernel_size=(3, 3, 3), stride=(1, 1, 1), padding=(1, 1, 1), bias=False)\n",
      "    (mbn2): MaskedBatchNorm3d()\n",
      "    (shortcut): Conv3d(16, 32, kernel_size=(1, 1, 1), stride=(1, 1, 1), bias=False)\n",
      "  )\n",
      "  (pool2): MaxPool3d(kernel_size=2, stride=2, padding=0, dilation=1, ceil_mode=False)\n",
      "  (conv4): Conv3d(32, 8, kernel_size=(3, 3, 3), stride=(1, 1, 1), padding=(1, 1, 1), bias=False)\n",
      "  (mbn4): MaskedBatchNorm3d()\n",
      "  (cbam_final): CBAM3D(\n",
      "    (ca): ChannelAttention3D(\n",
      "      (mlp): Sequential(\n",
      "        (0): Linear(in_features=8, out_features=4, bias=False)\n",
      "        (1): ReLU(inplace=True)\n",
      "        (2): Linear(in_features=4, out_features=8, bias=False)\n",
      "      )\n",
      "    )\n",
      "    (sa): SpatialAttention3D(\n",
      "      (conv): Conv3d(2, 1, kernel_size=(7, 7, 7), stride=(1, 1, 1), padding=(3, 3, 3), bias=False)\n",
      "    )\n",
      "  )\n",
      "  (gmp): AdaptiveMaxPool3d(output_size=1)\n",
      "  (fc): Linear(in_features=8, out_features=3, bias=True)\n",
      ")\n"
     ]
    }
   ],
   "source": [
    "print(model)"
   ]
  },
  {
   "cell_type": "code",
   "execution_count": 17,
   "id": "ed029c6b",
   "metadata": {},
   "outputs": [
    {
     "data": {
      "text/plain": [
       "<matplotlib.colorbar.Colorbar at 0x7fecacc02ce0>"
      ]
     },
     "execution_count": 17,
     "metadata": {},
     "output_type": "execute_result"
    },
    {
     "data": {
      "image/png": "[encoded data removed]",
      "text/plain": [
       "<Figure size 640x480 with 2 Axes>"
      ]
     },
     "metadata": {},
     "output_type": "display_data"
    }
   ],
   "source": [
    "plt.imshow(torch.functional.F.relu(activations['mbn4'][0,7,:,:,10]))\n",
    "plt.colorbar()"
   ]
  },
  {
   "cell_type": "markdown",
   "id": "704991e1",
   "metadata": {},
   "source": [
    "#### EigenCAM"
   ]
  },
  {
   "cell_type": "code",
   "execution_count": 18,
   "id": "698c739c",
   "metadata": {},
   "outputs": [],
   "source": [
    "from pytorch_grad_cam import GradCAM, EigenCAM, GradCAMPlusPlus, LayerCAM,ScoreCAM, ShapleyCAM\n",
    "from pytorch_grad_cam.utils.model_targets import ClassifierOutputTarget"
   ]
  },
  {
   "cell_type": "code",
   "execution_count": 19,
   "id": "e319b5eb",
   "metadata": {},
   "outputs": [],
   "source": [
    "target_layer_name = 'conv4'"
   ]
  },
  {
   "cell_type": "code",
   "execution_count": 20,
   "id": "99a2bdab",
   "metadata": {},
   "outputs": [],
   "source": [
    "target_layer = None\n",
    "for name, module in model.named_modules():\n",
    "    if name == target_layer_name:\n",
    "        target_layer = module\n",
    "        break"
   ]
  },
  {
   "cell_type": "code",
   "execution_count": 21,
   "id": "9eb2305e",
   "metadata": {},
   "outputs": [],
   "source": [
    "with EigenCAM(model=model, target_layers=[ target_layer ]) as cam:\n",
    "       gcam_overlay = cam(batches[4], targets=[ ClassifierOutputTarget(0)])"
   ]
  },
  {
   "cell_type": "code",
   "execution_count": 32,
   "id": "37cb0fb0",
   "metadata": {},
   "outputs": [
    {
     "data": {
      "text/plain": [
       "<matplotlib.image.AxesImage at 0x7febefb5d240>"
      ]
     },
     "execution_count": 32,
     "metadata": {},
     "output_type": "execute_result"
    },
    {
     "data": {
      "image/png": "[encoded data removed]",
      "text/plain": [
       "<Figure size 640x480 with 1 Axes>"
      ]
     },
     "metadata": {},
     "output_type": "display_data"
    }
   ],
   "source": [
    "plt.imshow(gcam_overlay[9,:,:,35])"
   ]
  },
  {
   "cell_type": "code",
   "execution_count": null,
   "id": "8c2d6f5a",
   "metadata": {},
   "outputs": [],
   "source": []
  }
 ],
 "metadata": {
  "kernelspec": {
   "display_name": "adni_rcc",
   "language": "python",
   "name": "python3"
  },
  "language_info": {
   "codemirror_mode": {
    "name": "ipython",
    "version": 3
   },
   "file_extension": ".py",
   "mimetype": "text/x-python",
   "name": "python",
   "nbconvert_exporter": "python",
   "pygments_lexer": "ipython3",
   "version": "3.10.18"
  }
 },
 "nbformat": 4,
 "nbformat_minor": 5
}
